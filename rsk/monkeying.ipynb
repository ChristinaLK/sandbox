{
 "metadata": {
  "name": "",
  "signature": "sha256:bda4c5193a28933607ace112eab74a4f404c8c9b6ca0dbf205e50bc47a528130"
 },
 "nbformat": 3,
 "nbformat_minor": 0,
 "worksheets": [
  {
   "cells": [
    {
     "cell_type": "code",
     "collapsed": false,
     "input": [
      "def makeIND(strg):\n",
      "    tl = [ ]\n",
      "    dl = open(directory.txt).readlines()\n",
      "    for i in dl:\n",
      "        if i is strg:\n",
      "            tl.append(i)\n",
      "    out = open(filename, 'w') # 'w' opens in \"write\" mode, which erases existing content of the file\n",
      "    for j in tl:\n",
      "        print >> out, j\n",
      "    out.close()"
     ],
     "language": "python",
     "metadata": {},
     "outputs": []
    },
    {
     "cell_type": "code",
     "collapsed": false,
     "input": [
      "tl = [ ]\n",
      "dl = open(directory.txt).readlines()\n",
      "for i in dl:\n",
      "    if i is strg:\n",
      "        tl.append(i)\n",
      "out = open(filename, 'w') # 'w' opens in \"write\" mode, which erases existing content of the file\n",
      "for j in tl:\n",
      "    print >> out, j\n",
      "out.close()"
     ],
     "language": "python",
     "metadata": {},
     "outputs": []
    },
    {
     "cell_type": "code",
     "collapsed": false,
     "input": [
      "import itertools\n",
      "\n",
      "itertools.permutations(range(1,4))"
     ],
     "language": "python",
     "metadata": {},
     "outputs": [
      {
       "output_type": "stream",
       "stream": "stdout",
       "text": [
        "<itertools.permutations object at 0x0000000003C72830>\n"
       ]
      }
     ],
     "prompt_number": 8
    }
   ],
   "metadata": {}
  }
 ]
}