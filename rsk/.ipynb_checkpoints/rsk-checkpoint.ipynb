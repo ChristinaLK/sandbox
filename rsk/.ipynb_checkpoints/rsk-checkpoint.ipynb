{
 "metadata": {
  "name": ""
 },
 "nbformat": 3,
 "nbformat_minor": 0,
 "worksheets": [
  {
   "cells": [
    {
     "cell_type": "markdown",
     "metadata": {},
     "source": [
      "Playing around with lists"
     ]
    },
    {
     "cell_type": "code",
     "collapsed": false,
     "input": [
      "\n",
      "lst = [3, 2, 1, 5, 6, 4]\n",
      "lenlst = len(lst)\n",
      "\n",
      "tableaux = [[]]\n",
      "\n",
      "tableaux[0].append(5)\n",
      "\n",
      "tableaux[0]\n",
      "\n",
      "print tableaux\n",
      "\n"
     ],
     "language": "python",
     "metadata": {},
     "outputs": [
      {
       "output_type": "stream",
       "stream": "stdout",
       "text": [
        "[[5]]\n"
       ]
      }
     ],
     "prompt_number": 24
    },
    {
     "cell_type": "markdown",
     "metadata": {},
     "source": [
      "Building + testing individual functions"
     ]
    },
    {
     "cell_type": "code",
     "collapsed": false,
     "input": [
      "def RSKappend(tabl, num, ind, bl):\n",
      "    tabl[ind].append(num)\n",
      "    bl = False\n",
      "\n",
      "tableaux = [[1,2,3],[4,5]]\n",
      "test = True\n",
      "RSKappend(tableaux, 6, 0, test)\n",
      "\n",
      "print tableaux\n",
      "print test"
     ],
     "language": "python",
     "metadata": {},
     "outputs": [
      {
       "output_type": "stream",
       "stream": "stdout",
       "text": [
        "[[1, 2, 3, 6], [4, 5]]\n",
        "True\n"
       ]
      }
     ],
     "prompt_number": 41
    },
    {
     "cell_type": "code",
     "collapsed": false,
     "input": [
      "def RSKappend(tabl, num, ind):\n",
      "    tabl[ind].append(num)\n",
      "    return False\n",
      "\n",
      "tableaux = [[1,2,3],[4,5]]\n",
      "test = True\n",
      "test2 = RSKappend(tableaux, 6, 0)\n",
      "\n",
      "print tableaux\n",
      "print test2"
     ],
     "language": "python",
     "metadata": {},
     "outputs": [
      {
       "output_type": "stream",
       "stream": "stdout",
       "text": [
        "[[1, 2, 3, 6], [4, 5]]\n",
        "False\n"
       ]
      }
     ],
     "prompt_number": 81
    },
    {
     "cell_type": "code",
     "collapsed": false,
     "input": [
      "def RSKreplace(tabl, num, ind):\n",
      "    for i in tabl[ind]:\n",
      "        if i > num:\n",
      "            tabl[ind][tabl[ind].index(i)] = num\n",
      "            num = i\n",
      "            ind += 1\n",
      "            print num\n",
      "            print ind\n",
      "            print tabl\n",
      "            break\n",
      "\n",
      "tableaux = [[1,2,5],[4]]\n",
      "RSKreplace(tableaux, 3, 0)"
     ],
     "language": "python",
     "metadata": {},
     "outputs": [
      {
       "output_type": "stream",
       "stream": "stdout",
       "text": [
        "5\n",
        "1\n",
        "[[1, 2, 3], [4]]\n"
       ]
      }
     ],
     "prompt_number": 62
    },
    {
     "cell_type": "code",
     "collapsed": false,
     "input": [
      "def RSKreplace(tabl, num, ind):\n",
      "    retVar = 0\n",
      "    for i in tabl[ind]:\n",
      "        if i > num:\n",
      "            tabl[ind][tabl[ind].index(i)] = num\n",
      "            retVar = i\n",
      "            break\n",
      "    return retVar\n",
      "\n",
      "tableaux = [[1,2,5],[4]]\n",
      "RSKreplace(tableaux, 3, 0)"
     ],
     "language": "python",
     "metadata": {},
     "outputs": [
      {
       "output_type": "pyout",
       "prompt_number": 68,
       "text": [
        "5"
       ]
      }
     ],
     "prompt_number": 68
    },
    {
     "cell_type": "code",
     "collapsed": false,
     "input": [
      "def lineTest(tabl,ind,num):\n",
      "    switch = True\n",
      "    for i in tabl[ind]:\n",
      "        if i > num:\n",
      "            switch = False\n",
      "    return switch\n",
      "\n",
      "tableaux = [[1,3]]\n",
      "lineTest(tableaux, 0, 1)\n"
     ],
     "language": "python",
     "metadata": {},
     "outputs": [
      {
       "output_type": "pyout",
       "prompt_number": 49,
       "text": [
        "True"
       ]
      }
     ],
     "prompt_number": 49
    },
    {
     "cell_type": "markdown",
     "metadata": {},
     "source": [
      "Final compilation"
     ]
    },
    {
     "cell_type": "code",
     "collapsed": false,
     "input": [
      "def lineTest(tabl,ind,num):\n",
      "    '''tests whether current insertion (num) is greater than the row of the current tableaux (tabl) indexed by (ind)\n",
      "    Returns True if it is, False if not'''\n",
      "    switch = True\n",
      "    for i in tabl[ind]:\n",
      "        if i > num:\n",
      "            switch = False\n",
      "            break\n",
      "    return switch\n",
      "\n",
      "def RSKappend(tabl, ind, num):\n",
      "    '''Appends (num) to the row of the tableau (tabl) indexed by (ind)'''\n",
      "    tabl[ind].append(num)\n",
      "    return False\n",
      "\n",
      "def RSKreplace(tabl, ind, num):\n",
      "    '''not sure what this does'''\n",
      "    retVar = 0\n",
      "    for i in tabl[ind]:\n",
      "        if i > num:\n",
      "            tabl[ind][tabl[ind].index(i)] = num\n",
      "            retVar = i\n",
      "            break\n",
      "    return retVar\n",
      "\n",
      "def RSKtableau(perm):\n",
      "    tableaux = [[]]\n",
      "    for j in perm:  #for each element of the permutation\n",
      "        bln = True\n",
      "        index = 0\n",
      "        while bln:\n",
      "            if len(tableaux) <= index:  #if your index has passed the height of tableaux, add empty list\n",
      "                tableaux.append([])\n",
      "            if lineTest(tableaux, index, j):  #if linetest is true (j is greater than each item in indexed row)\n",
      "                bln = RSKappend(tableaux, index, j)  #simply append j onto the end, bln = False to end while loop and move to next j\n",
      "            else: \n",
      "                j = RSKreplace(tableaux, index, j)  #replace an element in the currently indexed row with j, rerun while loop with new j\n",
      "                index += 1                         #and incremented index\n",
      "    return tableaux\n",
      "\n",
      "def RSKprint(tabl):\n",
      "    for row in tabl:\n",
      "        print row\n",
      "\n",
      "permutation = [8,2,3,5,7,1,4,6]\n",
      "RSKprint(RSKtableau(permutation))"
     ],
     "language": "python",
     "metadata": {},
     "outputs": [
      {
       "output_type": "stream",
       "stream": "stdout",
       "text": [
        "[1, 3, 4, 6]\n",
        "[2, 5, 7]\n",
        "[8]\n"
       ]
      }
     ],
     "prompt_number": 3
    },
    {
     "cell_type": "code",
     "collapsed": false,
     "input": [],
     "language": "python",
     "metadata": {},
     "outputs": []
    }
   ],
   "metadata": {}
  }
 ]
}