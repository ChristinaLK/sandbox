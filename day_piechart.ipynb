{
 "metadata": {
  "name": "",
  "signature": "sha256:d75c378522c68cafd7d82e97ee1d2b370844e8dfc02836f2396d1dee10e92783"
 },
 "nbformat": 3,
 "nbformat_minor": 0,
 "worksheets": [
  {
   "cells": [
    {
     "cell_type": "code",
     "collapsed": false,
     "input": [
      "activities= {\n",
      "             \"Being healthy aka Exercise (+shower)\": 1.5,\n",
      "             \"Eating...without doing something else.\": 1.0, \n",
      "             \"Making computers bend to my will\":2.75,\n",
      "             \"Interviewing people\": 2.75,\n",
      "             \"Walking, riding the bus, etc.\":2.75,\n",
      "             \"Making money\": 1.5,\n",
      "             \"Singing\": 1.25, \n",
      "             }"
     ],
     "language": "python",
     "metadata": {},
     "outputs": [],
     "prompt_number": 1
    },
    {
     "cell_type": "code",
     "collapsed": false,
     "input": [
      "total_hrs = sum(activities.values())"
     ],
     "language": "python",
     "metadata": {},
     "outputs": [],
     "prompt_number": 2
    },
    {
     "cell_type": "code",
     "collapsed": false,
     "input": [
      "percentages = [ x / total_hrs * 100 for x in activities.values()]"
     ],
     "language": "python",
     "metadata": {},
     "outputs": [],
     "prompt_number": 3
    },
    {
     "cell_type": "code",
     "collapsed": false,
     "input": [
      "from pylab import *"
     ],
     "language": "python",
     "metadata": {},
     "outputs": [],
     "prompt_number": 4
    },
    {
     "cell_type": "code",
     "collapsed": false,
     "input": [
      "figure(1, figsize=(10,6))\n",
      "labels = activities.keys()\n",
      "pie(percentages,  labels=labels, startangle=90)\n",
      "show()"
     ],
     "language": "python",
     "metadata": {},
     "outputs": [],
     "prompt_number": 5
    },
    {
     "cell_type": "code",
     "collapsed": false,
     "input": [],
     "language": "python",
     "metadata": {},
     "outputs": []
    }
   ],
   "metadata": {}
  }
 ]
}